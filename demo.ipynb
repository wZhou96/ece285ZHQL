{
 "cells": [
  {
   "cell_type": "code",
   "execution_count": null,
   "metadata": {},
   "outputs": [],
   "source": [
    "%matplotlib inline\n",
    "import matplotlib.pyplot as plt\n",
    "import cv2\n",
    "import os\n",
    "os.environ['CUDA_LAUNCH_BLOCKING'] = \"1\"\n",
    "\n",
    "import glob\n",
    "from PIL import Image\n",
    "from collections import defaultdict\n",
    "import math\n",
    "from copy import deepcopy\n",
    "import pandas as pd\n",
    "import struct, os\n",
    "import re, numpy as np\n",
    "# from skimage import transform\n",
    "import itertools, operator\n",
    "import pickle\n",
    "from torch.optim.lr_scheduler import _LRScheduler\n",
    "from nltk.corpus import wordnet as wn\n",
    "\n",
    "import sys\n",
    "import xml.etree.ElementTree as ET\n",
    "\n",
    "import numpy as np\n",
    "from PIL import Image\n",
    "import torch\n",
    "from torch import nn\n",
    "import torch.nn.functional as F\n",
    "import torchvision.datasets as dsets\n",
    "import torchvision\n",
    "import torchvision.transforms as transforms\n",
    "import torch.utils.data as td \n",
    "import torchvision as tv\n",
    "from torch.autograd import Variable\n",
    "from torch.utils.data import Dataset, DataLoader, ConcatDataset\n",
    "\n",
    "import Data1\n",
    "import build\n",
    "from build import Yolov2\n",
    "import bbox\n",
    "\n",
    "import nntool as nt \n",
    "import utils"
   ]
  },
  {
   "cell_type": "code",
   "execution_count": null,
   "metadata": {},
   "outputs": [],
   "source": [
    "device = 'cuda' if torch.cuda.is_available() else 'cpu'\n",
    "print(device)"
   ]
  },
  {
   "cell_type": "code",
   "execution_count": null,
   "metadata": {},
   "outputs": [],
   "source": [
    "dataset_root_dir = '/datasets/ee285f-public/PascalVOC2012'"
   ]
  },
  {
   "cell_type": "code",
   "execution_count": null,
   "metadata": {},
   "outputs": [],
   "source": [
    "!gunzip -d ./yolo_voc2.zip"
   ]
  },
  {
   "cell_type": "code",
   "execution_count": null,
   "metadata": {},
   "outputs": [],
   "source": [
    "!tar -xvf ./yolo_voc2/checkpoint.pth.tar"
   ]
  },
  {
   "cell_type": "code",
   "execution_count": null,
   "metadata": {},
   "outputs": [],
   "source": [
    "train_set, test_set = Data1.getdata(dataset_root_dir)"
   ]
  },
  {
   "cell_type": "code",
   "execution_count": null,
   "metadata": {},
   "outputs": [],
   "source": [
    "net = Yolov2()\n",
    "state_dict = torch.load('./yolo_voc2/checkpoint.pth')\n",
    "net.load_stat_dict(state_dict)\n",
    "net.evaluate()"
   ]
  },
  {
   "cell_type": "code",
   "execution_count": null,
   "metadata": {},
   "outputs": [],
   "source": [
    "test = test_set[2]['image'].float().to(device).view(1,3,416,416)\n",
    "\n",
    "net = net.cuda()\n",
    "a=net.forward(test)\n",
    "nnms = bbox.get_nms_detections(a, 0, 0.1)\n",
    "# nnms\n",
    "bbox.draw_bbox_torch({\"image\": test_images[0].cpu().data, \"bboxes\": test_labels[0].cpu().data})\n",
    "bbox.draw_bbox_nms(test_images[0].cpu(), nnms[0].cpu())"
   ]
  }
 ],
 "metadata": {
  "kernelspec": {
   "display_name": "Python 3",
   "language": "python",
   "name": "python3"
  },
  "language_info": {
   "codemirror_mode": {
    "name": "ipython",
    "version": 3
   },
   "file_extension": ".py",
   "mimetype": "text/x-python",
   "name": "python",
   "nbconvert_exporter": "python",
   "pygments_lexer": "ipython3",
   "version": "3.6.8"
  }
 },
 "nbformat": 4,
 "nbformat_minor": 2
}
