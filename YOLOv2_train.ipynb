{
 "cells": [
  {
   "cell_type": "code",
   "execution_count": null,
   "metadata": {},
   "outputs": [],
   "source": [
    "%matplotlib inline\n",
    "import matplotlib.pyplot as plt\n",
    "import cv2\n",
    "import os\n",
    "os.environ['CUDA_LAUNCH_BLOCKING'] = \"1\"\n",
    "\n",
    "import glob\n",
    "from PIL import Image\n",
    "from collections import defaultdict\n",
    "import math\n",
    "from copy import deepcopy\n",
    "import pandas as pd\n",
    "import struct, os\n",
    "import re, numpy as np\n",
    "# from skimage import transform\n",
    "import itertools, operator\n",
    "import pickle\n",
    "from torch.optim.lr_scheduler import _LRScheduler\n",
    "from nltk.corpus import wordnet as wn\n",
    "\n",
    "import sys\n",
    "import xml.etree.ElementTree as ET\n",
    "\n",
    "import numpy as np\n",
    "from PIL import Image\n",
    "import torch\n",
    "from torch import nn\n",
    "import torch.nn.functional as F\n",
    "import torchvision.datasets as dsets\n",
    "import torchvision\n",
    "import torchvision.transforms as transforms\n",
    "import torch.utils.data as td \n",
    "import torchvision as tv\n",
    "from torch.autograd import Variable\n",
    "from torch.utils.data import Dataset, DataLoader, ConcatDataset\n",
    "\n",
    "import Data\n",
    "import build\n",
    "from build import Yolov2\n",
    "import bbox\n",
    "\n",
    "import nntool as nt "
   ]
  },
  {
   "cell_type": "code",
   "execution_count": null,
   "metadata": {},
   "outputs": [],
   "source": [
    "device = 'cuda' if torch.cuda.is_available() else 'cpu'\n",
    "print(device)"
   ]
  },
  {
   "cell_type": "markdown",
   "metadata": {},
   "source": [
    "## Load dataset and settings"
   ]
  },
  {
   "cell_type": "code",
   "execution_count": null,
   "metadata": {},
   "outputs": [],
   "source": [
    "dataset_root_dir = '/datasets/ee285f-public/PascalVOC2012'\n",
    "batch_size = 32\n",
    "meta = defaultdict()\n",
    "meta['anchors'] = 5\n",
    "meta['classes'] = 20\n",
    "meta['batch_size'] = batch_size\n",
    "meta['threshold'] = 0.6\n",
    "meta['anchor_bias'] = np.array([1.08,1.19,  3.42,4.41,  6.63,11.38,  9.42,5.11,  16.62,10.52])\n",
    "meta['scale_no_obj'] = 1\n",
    "meta['scale_coords'] = 1\n",
    "meta['scale_class'] = 1\n",
    "meta['scale_obj']  = 5\n",
    "meta['iteration'] = 0 "
   ]
  },
  {
   "cell_type": "code",
   "execution_count": null,
   "metadata": {},
   "outputs": [],
   "source": [
    "train_set, test_set = Data.getdata(dataset_root_dir)\n",
    "meta['train_samples'] = len(train_set)\n",
    "meta['iterations_per_epoch'] = meta['train_samples']/batch_size\n",
    "\n",
    "bbox.draw_bbox_torch(train_set[0])"
   ]
  },
  {
   "cell_type": "markdown",
   "metadata": {},
   "source": [
    "## Set up stats manager"
   ]
  },
  {
   "cell_type": "code",
   "execution_count": null,
   "metadata": {},
   "outputs": [],
   "source": [
    "class YOLOStatsManager(nt.StatsManager):\n",
    "    def __init__(self):\n",
    "        super(YOLOStatsManager, self).__init__()\n",
    "\n",
    "    def init(self):\n",
    "        super(YOLOStatsManager, self).init()\n",
    "        self.AP = 0\n",
    "        self.n = 1e-6\n",
    "        \n",
    "    def accumulate(self, loss, x, y, d, mode): \n",
    "        super(YOLOStatsManager, self).accumulate(loss)\n",
    "        if mode == 'test':\n",
    "            AP, n = self.mAP(x, y, d)\n",
    "            self.AP += AP\n",
    "            self.n += n\n",
    "        \n",
    "    def summarize(self):\n",
    "        loss = super(YOLOStatsManager, self).summarize() \n",
    "        return {'loss': loss, 'mAP': self.AP/self.n}\n",
    "\n",
    "    def mAP(self, y, ground_truths, n_true, iou_thresh = 0.5):\n",
    "        \n",
    "        nms_output = bbox.get_nms_detections(y, 0.24, 0.3)\n",
    "        n_truths = n_true.numpy()\n",
    "        N = ground_truths.size(0)\n",
    "    \n",
    "        mean_avg_precision = Variable(torch.FloatTensor([0]))\n",
    "        if torch.cuda.is_available():\n",
    "            mean_avg_precision = mean_avg_precision.cuda()\n",
    "\n",
    "        for batch in range(int(N)):\n",
    "            category_map = defaultdict(lambda: defaultdict(lambda: torch.FloatTensor()))\n",
    "        \n",
    "            if n_truths[batch] == 0:\n",
    "                continue\n",
    "\n",
    "            ground_truth = ground_truths[batch, :n_truths[batch]]\n",
    "            for gt in ground_truth:\n",
    "                gt_class = gt[0].int().data[0]\n",
    "                t1 = category_map[gt_class]['ground_truth']\n",
    "                if len(t1.size()) == 0:\n",
    "                    t1 = gt[1:].unsqueeze(0)\n",
    "                else:\n",
    "                    t1 = torch.cat([t1, gt[1:].unsqueeze(0)], 0)\n",
    "                category_map[gt_class]['ground_truth'] = t1\n",
    "            \n",
    "            nms_boxes = nms_output[batch]\n",
    "            if len(nms_boxes.size()) == 0:\n",
    "                continue\n",
    "\n",
    "            for box in nms_boxes:\n",
    "                class_id = (torch.max(box[5:], 0)[1]).int().data[0]\n",
    "                t2 = category_map[class_id]['prediction']\n",
    "                if len(t2.size()) == 0:\n",
    "                    t2 = box[:5].unsqueeze(0)\n",
    "                else:\n",
    "                    t2 = torch.cat([t2, box[:5].unsqueeze(0)], 0)\n",
    "                category_map[class_id]['prediction'] = t2\n",
    "            cat_ids = category_map.keys()\n",
    "#         return category_map\n",
    "            mean_avg_precision += torch.mean(torch.cat([calc_map(category_map[cat_id], iou_thresh) for cat_id in cat_ids], 0 ))\n",
    "        return mean_avg_precision, N"
   ]
  },
  {
   "cell_type": "markdown",
   "metadata": {},
   "source": [
    "## Exp1: train last 4 layers only"
   ]
  },
  {
   "cell_type": "code",
   "execution_count": null,
   "metadata": {},
   "outputs": [],
   "source": [
    "net = Yolov2()\n",
    "net = build.load_pretrained_weights(net)\n",
    "build.model_freeze_upto(net, 36)\n",
    "for name, param in net.named_parameters():\n",
    "    print(name, param.size(), param.requires_grad)"
   ]
  },
  {
   "cell_type": "code",
   "execution_count": null,
   "metadata": {},
   "outputs": [],
   "source": [
    "#!rm -r yolo_voc1\n",
    "\n",
    "lr = 0.00025\n",
    "net = net.to(device)\n",
    "adam = torch.optim.Adam(net.parameters(), lr=lr)\n",
    "stats_manager = YOLOStatsManager()\n",
    "exp1 = nt.Experiment(net, train_set, test_set, adam, stats_manager, meta, output_dir=\"yolo_voc1\", \n",
    "                     batch_size = batch_size, perform_validation_during_training=False)"
   ]
  },
  {
   "cell_type": "code",
   "execution_count": null,
   "metadata": {},
   "outputs": [],
   "source": [
    "def plot(exp, fig, axes):\n",
    "    axes.clear()\n",
    "    axes.plot([exp.history[k]['loss'] for k in range(len(exp.history))], label=\"training loss\")\n",
    "#     axes.plot([exp.history[k][1]['loss'] for k in range(exp.epoch)], label=\"evaluation loss\")\n",
    "    plt.xticks([18,36,54,72], ['epoch 1', 'epoch 2', 'epoch 3', 'epoch 4'], rotation=45)    \n",
    "    plt.tight_layout()\n",
    "    fig.canvas.draw()\n",
    "    axes.set_ylim([0,50])\n",
    "    axes.legend()\n",
    "\n",
    "fig, axes = plt.subplots(ncols=1, figsize=(12, 5))\n",
    "exp1.run(num_epochs=4, plot=lambda exp: plot(exp, fig=fig, axes=axes))"
   ]
  },
  {
   "cell_type": "code",
   "execution_count": null,
   "metadata": {},
   "outputs": [],
   "source": [
    "#evaluate\n",
    "test_loader = td.DataLoader(test_set,\n",
    "                                     batch_size=batch_size,\n",
    "                                     shuffle=True,\n",
    "                                     drop_last=True,\n",
    "                                     pin_memory=True)\n",
    "for i, test_data in enumerate(test_loader):\n",
    "    test_images = Variable(test_data[\"image\"], requires_grad=True).cuda().float()\n",
    "    test_labels = Variable(test_data[\"bboxes\"], requires_grad=False).cuda().float()\n",
    "    test_n_true = test_data[\"n_true\"]\n",
    "    break\n",
    "\n",
    "net = net.cuda()\n",
    "a=net.forward(test_images)\n",
    "nnms = bbox.get_nms_detections(a, 0.24, 0.3)\n",
    "bbox.draw_bbox_torch({\"image\": test_images[0].cpu().data, \"bboxes\": test_labels[0].cpu().data})\n",
    "bbox.draw_bbox_nms(test_images[0].cpu(), nnms[0].cpu())\n"
   ]
  },
  {
   "cell_type": "markdown",
   "metadata": {},
   "source": [
    "## Exp2: Fine-tuning: train all layers"
   ]
  },
  {
   "cell_type": "code",
   "execution_count": null,
   "metadata": {},
   "outputs": [],
   "source": [
    "net = Yolov2()\n",
    "net = build.load_pretrained_weights(net)\n",
    "build.model_freeze_upto(net, 0)\n",
    "for name, param in net.named_parameters():\n",
    "    print(name, param.size(), param.requires_grad)"
   ]
  },
  {
   "cell_type": "code",
   "execution_count": null,
   "metadata": {},
   "outputs": [],
   "source": [
    "#!rm -r yolo_voc2\n",
    "\n",
    "lr = 0.00025\n",
    "net = net.to(device)\n",
    "adam = torch.optim.Adam(net.parameters(), lr=lr)\n",
    "stats_manager = YOLOStatsManager()\n",
    "exp2 = nt.Experiment(net, train_set, test_set, adam, stats_manager, meta, output_dir=\"yolo_voc2\", \n",
    "                     batch_size = batch_size, perform_validation_during_training=False)"
   ]
  },
  {
   "cell_type": "code",
   "execution_count": null,
   "metadata": {},
   "outputs": [],
   "source": [
    "def plot(exp, fig, axes):\n",
    "    axes.clear()\n",
    "    axes.plot([exp.history[k]['loss'] for k in range(len(exp.history))], label=\"training loss\")\n",
    "#     axes.plot([exp.history[k][1]['loss'] for k in range(exp.epoch)], label=\"evaluation loss\")\n",
    "    plt.xticks([18,36,54,72], ['epoch 1', 'epoch 2', 'epoch 3', 'epoch 4'], rotation=45)    \n",
    "    plt.tight_layout()\n",
    "    fig.canvas.draw()\n",
    "    axes.set_ylim([0,50])\n",
    "    axes.legend()\n",
    "\n",
    "fig, axes = plt.subplots(ncols=1, figsize=(12, 5))\n",
    "exp2.run(num_epochs=4, plot=lambda exp: plot(exp, fig=fig, axes=axes))"
   ]
  },
  {
   "cell_type": "markdown",
   "metadata": {},
   "source": [
    "## Exp3: Cosine annealing learning rate"
   ]
  },
  {
   "cell_type": "code",
   "execution_count": null,
   "metadata": {},
   "outputs": [],
   "source": [
    "class CosineAnnealing(_LRScheduler):\n",
    "\n",
    "    def __init__(self, optimizer, T_max, eta_min=0, last_epoch=-1):\n",
    "        self.T_max = T_max\n",
    "        self.eta_min = eta_min\n",
    "        super(CosineAnnealing, self).__init__(optimizer, last_epoch)\n",
    "\n",
    "    def get_lr(self):\n",
    "        return [self.eta_min + (base_lr - self.eta_min) *\n",
    "                (1 + math.cos(math.pi * self.last_epoch / self.T_max)) / 2\n",
    "                for base_lr in self.base_lrs]"
   ]
  },
  {
   "cell_type": "code",
   "execution_count": null,
   "metadata": {},
   "outputs": [],
   "source": [
    "net = Yolov2()\n",
    "net = build.load_pretrained_weights(net)\n",
    "build.model_freeze_upto(net, 36)\n",
    "for name, param in net.named_parameters():\n",
    "    print(name, param.size(), param.requires_grad)"
   ]
  },
  {
   "cell_type": "code",
   "execution_count": null,
   "metadata": {},
   "outputs": [],
   "source": [
    "#!rm -r yolo_voc3\n",
    "\n",
    "lr = 0.00025\n",
    "net = net.to(device)\n",
    "adam = torch.optim.Adam(net.parameters(), lr=lr)\n",
    "ca = CosineAnnealing(adam, 300)\n",
    "stats_manager = YOLOStatsManager()\n",
    "exp3 = nt.Experiment(net, train_set, test_set, ca, stats_manager, meta, output_dir=\"yolo_voc3\", \n",
    "                     batch_size = batch_size, perform_validation_during_training=False)"
   ]
  },
  {
   "cell_type": "code",
   "execution_count": null,
   "metadata": {},
   "outputs": [],
   "source": []
  }
 ],
 "metadata": {
  "kernelspec": {
   "display_name": "Python 3",
   "language": "python",
   "name": "python3"
  },
  "language_info": {
   "codemirror_mode": {
    "name": "ipython",
    "version": 3
   },
   "file_extension": ".py",
   "mimetype": "text/x-python",
   "name": "python",
   "nbconvert_exporter": "python",
   "pygments_lexer": "ipython3",
   "version": "3.6.8"
  }
 },
 "nbformat": 4,
 "nbformat_minor": 2
}
