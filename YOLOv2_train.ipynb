{
 "cells": [
  {
   "cell_type": "code",
   "execution_count": 1,
   "metadata": {},
   "outputs": [],
   "source": [
    "%matplotlib inline\n",
    "import matplotlib.pyplot as plt\n",
    "import cv2\n",
    "import os\n",
    "os.environ['CUDA_LAUNCH_BLOCKING'] = \"1\"\n",
    "\n",
    "import glob\n",
    "from PIL import Image\n",
    "from collections import defaultdict\n",
    "import math\n",
    "from copy import deepcopy\n",
    "import pandas as pd\n",
    "import struct, os\n",
    "import re, numpy as np\n",
    "# from skimage import transform\n",
    "import itertools, operator\n",
    "import pickle\n",
    "from torch.optim.lr_scheduler import _LRScheduler\n",
    "from nltk.corpus import wordnet as wn\n",
    "\n",
    "import sys\n",
    "import xml.etree.ElementTree as ET\n",
    "\n",
    "import numpy as np\n",
    "from PIL import Image\n",
    "import torch\n",
    "from torch import nn\n",
    "import torch.nn.functional as F\n",
    "import torchvision.datasets as dsets\n",
    "import torchvision\n",
    "import torchvision.transforms as transforms\n",
    "import torch.utils.data as td \n",
    "import torchvision as tv\n",
    "from torch.autograd import Variable\n",
    "from torch.utils.data import Dataset, DataLoader, ConcatDataset\n",
    "\n",
    "import Data1\n",
    "import build\n",
    "from build import Yolov2\n",
    "import bbox\n",
    "\n",
    "import nntool as nt \n",
    "import utils"
   ]
  },
  {
   "cell_type": "code",
   "execution_count": 2,
   "metadata": {},
   "outputs": [
    {
     "name": "stdout",
     "output_type": "stream",
     "text": [
      "cuda\n"
     ]
    }
   ],
   "source": [
    "device = 'cuda' if torch.cuda.is_available() else 'cpu'\n",
    "print(device)"
   ]
  },
  {
   "cell_type": "markdown",
   "metadata": {},
   "source": [
    "## Load dataset and settings"
   ]
  },
  {
   "cell_type": "code",
   "execution_count": 3,
   "metadata": {},
   "outputs": [],
   "source": [
    "dataset_root_dir = '/datasets/ee285f-public/PascalVOC2012'\n",
    "batch_size = 32\n",
    "CLASSES = ['sheep', 'horse', 'bicycle', 'bottle', 'cow', 'sofa', 'car', 'dog', 'cat', 'person', 'train', 'diningtable', 'aeroplane', 'bus', 'pottedplant', 'tvmonitor', 'chair', 'bird', 'boat', 'motorbike']\n",
    "meta = defaultdict()\n",
    "meta['anchors'] = 5\n",
    "meta['classes'] = 20\n",
    "meta['batch_size'] = batch_size\n",
    "meta['threshold'] = 0.6\n",
    "meta['anchor_bias'] = np.array([1.08,1.19,  3.42,4.41,  6.63,11.38,  9.42,5.11,  16.62,10.52])\n",
    "meta['scale_no_obj'] = 1\n",
    "meta['scale_coords'] = 1\n",
    "meta['scale_class'] = 1\n",
    "meta['scale_obj']  = 5\n",
    "meta['iteration'] = 0 "
   ]
  },
  {
   "cell_type": "code",
   "execution_count": 4,
   "metadata": {},
   "outputs": [],
   "source": [
    "train_set, test_set = Data1.getdata(dataset_root_dir)\n",
    "meta['train_samples'] = len(train_set)\n",
    "meta['iterations_per_epoch'] = meta['train_samples']/batch_size\n"
   ]
  },
  {
   "cell_type": "code",
   "execution_count": 7,
   "metadata": {},
   "outputs": [],
   "source": [
    "x = train_set[0]\n",
    "# x"
   ]
  },
  {
   "cell_type": "markdown",
   "metadata": {},
   "source": [
    "## Set up stats manager"
   ]
  },
  {
   "cell_type": "code",
   "execution_count": 8,
   "metadata": {},
   "outputs": [],
   "source": [
    "class YOLOStatsManager(nt.StatsManager):\n",
    "    def __init__(self):\n",
    "        super(YOLOStatsManager, self).__init__()\n",
    "\n",
    "    def init(self):\n",
    "        super(YOLOStatsManager, self).init()\n",
    "        self.AP = 0\n",
    "        self.n = 1e-6\n",
    "        \n",
    "    def accumulate(self, loss, x, y, d, mode): \n",
    "        super(YOLOStatsManager, self).accumulate(loss)\n",
    "        if mode == 'test':\n",
    "            AP, n = self.mAP(x, y, d)\n",
    "            self.AP += AP\n",
    "            self.n += n\n",
    "        \n",
    "    def summarize(self):\n",
    "        loss = super(YOLOStatsManager, self).summarize() \n",
    "        return {'loss': loss, 'mAP': self.AP/self.n}\n",
    "\n",
    "    def mAP(self, y, ground_truths, n_true, iou_thresh = 0.5):\n",
    "        \n",
    "        nms_output = bbox.get_nms_detections(y, 0.24, 0.3)\n",
    "        n_truths = n_true.numpy()\n",
    "        N = ground_truths.size(0)\n",
    "    \n",
    "        mean_avg_precision = Variable(torch.FloatTensor([0]))\n",
    "        if torch.cuda.is_available():\n",
    "            mean_avg_precision = mean_avg_precision.cuda()\n",
    "\n",
    "        for batch in range(int(N)):\n",
    "            category_map = defaultdict(lambda: defaultdict(lambda: torch.FloatTensor()))\n",
    "        \n",
    "            if n_truths[batch] == 0:\n",
    "                continue\n",
    "\n",
    "            ground_truth = ground_truths[batch, :n_truths[batch]]\n",
    "            for gt in ground_truth:\n",
    "                gt_class = gt[0].int().data[0]\n",
    "                t1 = category_map[gt_class]['ground_truth']\n",
    "                if len(t1.size()) == 0:\n",
    "                    t1 = gt[1:].unsqueeze(0)\n",
    "                else:\n",
    "                    t1 = torch.cat([t1, gt[1:].unsqueeze(0)], 0)\n",
    "                category_map[gt_class]['ground_truth'] = t1\n",
    "            \n",
    "            nms_boxes = nms_output[batch]\n",
    "            if len(nms_boxes.size()) == 0:\n",
    "                continue\n",
    "\n",
    "            for box in nms_boxes:\n",
    "                class_id = (torch.max(box[5:], 0)[1]).int().data[0]\n",
    "                t2 = category_map[class_id]['prediction']\n",
    "                if len(t2.size()) == 0:\n",
    "                    t2 = box[:5].unsqueeze(0)\n",
    "                else:\n",
    "                    t2 = torch.cat([t2, box[:5].unsqueeze(0)], 0)\n",
    "                category_map[class_id]['prediction'] = t2\n",
    "            cat_ids = category_map.keys()\n",
    "#         return category_map\n",
    "            mean_avg_precision += torch.mean(torch.cat([calc_map(category_map[cat_id], iou_thresh) for cat_id in cat_ids], 0 ))\n",
    "        return mean_avg_precision, N"
   ]
  },
  {
   "cell_type": "markdown",
   "metadata": {},
   "source": [
    "## Exp1: train last 4 layers only"
   ]
  },
  {
   "cell_type": "code",
   "execution_count": 9,
   "metadata": {},
   "outputs": [
    {
     "name": "stdout",
     "output_type": "stream",
     "text": [
      "<generator object Module.children at 0x7f9c688c3308>\n",
      "conv19.weight torch.Size([1024, 1024, 3, 3]) True\n",
      "batchnorm19.weight torch.Size([1024]) True\n",
      "batchnorm19.bias torch.Size([1024]) True\n",
      "conv20.weight torch.Size([1024, 1024, 3, 3]) True\n",
      "batchnorm20.weight torch.Size([1024]) True\n",
      "batchnorm20.bias torch.Size([1024]) True\n",
      "conv21.weight torch.Size([1024, 3072, 3, 3]) True\n",
      "batchnorm21.weight torch.Size([1024]) True\n",
      "batchnorm21.bias torch.Size([1024]) True\n",
      "conv22.weight torch.Size([125, 1024, 1, 1]) True\n",
      "conv22.bias torch.Size([125]) True\n"
     ]
    }
   ],
   "source": [
    "net = Yolov2()\n",
    "net = build.load_pretrained_weights(net)\n",
    "build.model_freeze_upto(net, 36)\n",
    "for name, param in net.named_parameters():\n",
    "    print(name, param.size(), param.requires_grad)"
   ]
  },
  {
   "cell_type": "code",
   "execution_count": 11,
   "metadata": {},
   "outputs": [
    {
     "ename": "RuntimeError",
     "evalue": "Error(s) in loading state_dict for Yolov2:\n\tMissing key(s) in state_dict: \"batchnorm1.weight\", \"batchnorm1.bias\", \"batchnorm1.running_mean\", \"batchnorm1.running_var\", \"batchnorm2.weight\", \"batchnorm2.bias\", \"batchnorm2.running_mean\", \"batchnorm2.running_var\", \"batchnorm3.weight\", \"batchnorm3.bias\", \"batchnorm3.running_mean\", \"batchnorm3.running_var\", \"batchnorm4.weight\", \"batchnorm4.bias\", \"batchnorm4.running_mean\", \"batchnorm4.running_var\", \"batchnorm5.weight\", \"batchnorm5.bias\", \"batchnorm5.running_mean\", \"batchnorm5.running_var\", \"batchnorm6.weight\", \"batchnorm6.bias\", \"batchnorm6.running_mean\", \"batchnorm6.running_var\", \"batchnorm7.weight\", \"batchnorm7.bias\", \"batchnorm7.running_mean\", \"batchnorm7.running_var\", \"batchnorm8.weight\", \"batchnorm8.bias\", \"batchnorm8.running_mean\", \"batchnorm8.running_var\", \"batchnorm9.weight\", \"batchnorm9.bias\", \"batchnorm9.running_mean\", \"batchnorm9.running_var\", \"batchnorm10.weight\", \"batchnorm10.bias\", \"batchnorm10.running_mean\", \"batchnorm10.running_var\", \"batchnorm11.weight\", \"batchnorm11.bias\", \"batchnorm11.running_mean\", \"batchnorm11.running_var\", \"batchnorm12.weight\", \"batchnorm12.bias\", \"batchnorm12.running_mean\", \"batchnorm12.running_var\", \"batchnorm13.weight\", \"batchnorm13.bias\", \"batchnorm13.running_mean\", \"batchnorm13.running_var\", \"batchnorm14.weight\", \"batchnorm14.bias\", \"batchnorm14.running_mean\", \"batchnorm14.running_var\", \"batchnorm15.weight\", \"batchnorm15.bias\", \"batchnorm15.running_mean\", \"batchnorm15.running_var\", \"batchnorm16.weight\", \"batchnorm16.bias\", \"batchnorm16.running_mean\", \"batchnorm16.running_var\", \"batchnorm17.weight\", \"batchnorm17.bias\", \"batchnorm17.running_mean\", \"batchnorm17.running_var\", \"batchnorm18.weight\", \"batchnorm18.bias\", \"batchnorm18.running_mean\", \"batchnorm18.running_var\", \"batchnorm19.weight\", \"batchnorm19.bias\", \"batchnorm19.running_mean\", \"batchnorm19.running_var\", \"batchnorm20.weight\", \"batchnorm20.bias\", \"batchnorm20.running_mean\", \"batchnorm20.running_var\", \"batchnorm21.weight\", \"batchnorm21.bias\", \"batchnorm21.running_mean\", \"batchnorm21.running_var\". \n\tUnexpected key(s) in state_dict: \"bn1.weight\", \"bn1.bias\", \"bn1.running_mean\", \"bn1.running_var\", \"bn1.num_batches_tracked\", \"bn2.weight\", \"bn2.bias\", \"bn2.running_mean\", \"bn2.running_var\", \"bn2.num_batches_tracked\", \"bn3.weight\", \"bn3.bias\", \"bn3.running_mean\", \"bn3.running_var\", \"bn3.num_batches_tracked\", \"bn4.weight\", \"bn4.bias\", \"bn4.running_mean\", \"bn4.running_var\", \"bn4.num_batches_tracked\", \"bn5.weight\", \"bn5.bias\", \"bn5.running_mean\", \"bn5.running_var\", \"bn5.num_batches_tracked\", \"bn6.weight\", \"bn6.bias\", \"bn6.running_mean\", \"bn6.running_var\", \"bn6.num_batches_tracked\", \"bn7.weight\", \"bn7.bias\", \"bn7.running_mean\", \"bn7.running_var\", \"bn7.num_batches_tracked\", \"bn8.weight\", \"bn8.bias\", \"bn8.running_mean\", \"bn8.running_var\", \"bn8.num_batches_tracked\", \"bn9.weight\", \"bn9.bias\", \"bn9.running_mean\", \"bn9.running_var\", \"bn9.num_batches_tracked\", \"bn10.weight\", \"bn10.bias\", \"bn10.running_mean\", \"bn10.running_var\", \"bn10.num_batches_tracked\", \"bn11.weight\", \"bn11.bias\", \"bn11.running_mean\", \"bn11.running_var\", \"bn11.num_batches_tracked\", \"bn12.weight\", \"bn12.bias\", \"bn12.running_mean\", \"bn12.running_var\", \"bn12.num_batches_tracked\", \"bn13.weight\", \"bn13.bias\", \"bn13.running_mean\", \"bn13.running_var\", \"bn13.num_batches_tracked\", \"bn14.weight\", \"bn14.bias\", \"bn14.running_mean\", \"bn14.running_var\", \"bn14.num_batches_tracked\", \"bn15.weight\", \"bn15.bias\", \"bn15.running_mean\", \"bn15.running_var\", \"bn15.num_batches_tracked\", \"bn16.weight\", \"bn16.bias\", \"bn16.running_mean\", \"bn16.running_var\", \"bn16.num_batches_tracked\", \"bn17.weight\", \"bn17.bias\", \"bn17.running_mean\", \"bn17.running_var\", \"bn17.num_batches_tracked\", \"bn18.weight\", \"bn18.bias\", \"bn18.running_mean\", \"bn18.running_var\", \"bn18.num_batches_tracked\", \"bn19.weight\", \"bn19.bias\", \"bn19.running_mean\", \"bn19.running_var\", \"bn19.num_batches_tracked\", \"bn20.weight\", \"bn20.bias\", \"bn20.running_mean\", \"bn20.running_var\", \"bn20.num_batches_tracked\", \"bn21.weight\", \"bn21.bias\", \"bn21.running_mean\", \"bn21.running_var\", \"bn21.num_batches_tracked\". ",
     "output_type": "error",
     "traceback": [
      "\u001b[0;31m---------------------------------------------------------------------------\u001b[0m",
      "\u001b[0;31mRuntimeError\u001b[0m                              Traceback (most recent call last)",
      "\u001b[0;32m<ipython-input-11-4ea4da29520e>\u001b[0m in \u001b[0;36m<module>\u001b[0;34m()\u001b[0m\n\u001b[1;32m      6\u001b[0m \u001b[0mstats_manager\u001b[0m \u001b[0;34m=\u001b[0m \u001b[0mYOLOStatsManager\u001b[0m\u001b[0;34m(\u001b[0m\u001b[0;34m)\u001b[0m\u001b[0;34m\u001b[0m\u001b[0;34m\u001b[0m\u001b[0m\n\u001b[1;32m      7\u001b[0m exp1 = nt.Experiment(net, train_set, test_set, adam, stats_manager, meta, output_dir=\"yolo_voc1\", \n\u001b[0;32m----> 8\u001b[0;31m                      batch_size = batch_size, perform_validation_during_training=False)\n\u001b[0m",
      "\u001b[0;32m/datasets/home/home-01/41/841/q3li/285project/V2/nntool.py\u001b[0m in \u001b[0;36m__init__\u001b[0;34m(self, net, train_set, val_set, optimizer, stats_manager, meta, output_dir, batch_size, perform_validation_during_training)\u001b[0m\n\u001b[1;32m    192\u001b[0m \u001b[0;31m#                         \"I found a checkpoint conflicting with the current setting.\"\u001b[0m\u001b[0;34m\u001b[0m\u001b[0;34m\u001b[0m\u001b[0;34m\u001b[0m\u001b[0m\n\u001b[1;32m    193\u001b[0m \u001b[0;31m#                     )\u001b[0m\u001b[0;34m\u001b[0m\u001b[0;34m\u001b[0m\u001b[0;34m\u001b[0m\u001b[0m\n\u001b[0;32m--> 194\u001b[0;31m             \u001b[0mself\u001b[0m\u001b[0;34m.\u001b[0m\u001b[0mload\u001b[0m\u001b[0;34m(\u001b[0m\u001b[0;34m)\u001b[0m\u001b[0;34m\u001b[0m\u001b[0;34m\u001b[0m\u001b[0m\n\u001b[0m\u001b[1;32m    195\u001b[0m         \u001b[0;32melse\u001b[0m\u001b[0;34m:\u001b[0m\u001b[0;34m\u001b[0m\u001b[0;34m\u001b[0m\u001b[0m\n\u001b[1;32m    196\u001b[0m             \u001b[0mself\u001b[0m\u001b[0;34m.\u001b[0m\u001b[0msave\u001b[0m\u001b[0;34m(\u001b[0m\u001b[0;34m)\u001b[0m\u001b[0;34m\u001b[0m\u001b[0;34m\u001b[0m\u001b[0m\n",
      "\u001b[0;32m/datasets/home/home-01/41/841/q3li/285project/V2/nntool.py\u001b[0m in \u001b[0;36mload\u001b[0;34m(self)\u001b[0m\n\u001b[1;32m    262\u001b[0m         checkpoint = torch.load(self.checkpoint_path,\n\u001b[1;32m    263\u001b[0m                                 map_location=self.net.device)\n\u001b[0;32m--> 264\u001b[0;31m         \u001b[0mself\u001b[0m\u001b[0;34m.\u001b[0m\u001b[0mload_state_dict\u001b[0m\u001b[0;34m(\u001b[0m\u001b[0mcheckpoint\u001b[0m\u001b[0;34m)\u001b[0m\u001b[0;34m\u001b[0m\u001b[0;34m\u001b[0m\u001b[0m\n\u001b[0m\u001b[1;32m    265\u001b[0m         \u001b[0;32mdel\u001b[0m \u001b[0mcheckpoint\u001b[0m\u001b[0;34m\u001b[0m\u001b[0;34m\u001b[0m\u001b[0m\n\u001b[1;32m    266\u001b[0m \u001b[0;34m\u001b[0m\u001b[0m\n",
      "\u001b[0;32m/datasets/home/home-01/41/841/q3li/285project/V2/nntool.py\u001b[0m in \u001b[0;36mload_state_dict\u001b[0;34m(self, checkpoint)\u001b[0m\n\u001b[1;32m    240\u001b[0m     \u001b[0;32mdef\u001b[0m \u001b[0mload_state_dict\u001b[0m\u001b[0;34m(\u001b[0m\u001b[0mself\u001b[0m\u001b[0;34m,\u001b[0m \u001b[0mcheckpoint\u001b[0m\u001b[0;34m)\u001b[0m\u001b[0;34m:\u001b[0m\u001b[0;34m\u001b[0m\u001b[0;34m\u001b[0m\u001b[0m\n\u001b[1;32m    241\u001b[0m         \u001b[0;34m\"\"\"Loads the experiment from the input checkpoint.\"\"\"\u001b[0m\u001b[0;34m\u001b[0m\u001b[0;34m\u001b[0m\u001b[0m\n\u001b[0;32m--> 242\u001b[0;31m         \u001b[0mself\u001b[0m\u001b[0;34m.\u001b[0m\u001b[0mnet\u001b[0m\u001b[0;34m.\u001b[0m\u001b[0mload_state_dict\u001b[0m\u001b[0;34m(\u001b[0m\u001b[0mcheckpoint\u001b[0m\u001b[0;34m[\u001b[0m\u001b[0;34m'Net'\u001b[0m\u001b[0;34m]\u001b[0m\u001b[0;34m)\u001b[0m\u001b[0;34m\u001b[0m\u001b[0;34m\u001b[0m\u001b[0m\n\u001b[0m\u001b[1;32m    243\u001b[0m         \u001b[0mself\u001b[0m\u001b[0;34m.\u001b[0m\u001b[0moptimizer\u001b[0m\u001b[0;34m.\u001b[0m\u001b[0mload_state_dict\u001b[0m\u001b[0;34m(\u001b[0m\u001b[0mcheckpoint\u001b[0m\u001b[0;34m[\u001b[0m\u001b[0;34m'Optimizer'\u001b[0m\u001b[0;34m]\u001b[0m\u001b[0;34m)\u001b[0m\u001b[0;34m\u001b[0m\u001b[0;34m\u001b[0m\u001b[0m\n\u001b[1;32m    244\u001b[0m         \u001b[0mself\u001b[0m\u001b[0;34m.\u001b[0m\u001b[0mhistory\u001b[0m \u001b[0;34m=\u001b[0m \u001b[0mcheckpoint\u001b[0m\u001b[0;34m[\u001b[0m\u001b[0;34m'History'\u001b[0m\u001b[0;34m]\u001b[0m\u001b[0;34m\u001b[0m\u001b[0;34m\u001b[0m\u001b[0m\n",
      "\u001b[0;32m/opt/conda/lib/python3.6/site-packages/torch/nn/modules/module.py\u001b[0m in \u001b[0;36mload_state_dict\u001b[0;34m(self, state_dict, strict)\u001b[0m\n\u001b[1;32m    767\u001b[0m         \u001b[0;32mif\u001b[0m \u001b[0mlen\u001b[0m\u001b[0;34m(\u001b[0m\u001b[0merror_msgs\u001b[0m\u001b[0;34m)\u001b[0m \u001b[0;34m>\u001b[0m \u001b[0;36m0\u001b[0m\u001b[0;34m:\u001b[0m\u001b[0;34m\u001b[0m\u001b[0;34m\u001b[0m\u001b[0m\n\u001b[1;32m    768\u001b[0m             raise RuntimeError('Error(s) in loading state_dict for {}:\\n\\t{}'.format(\n\u001b[0;32m--> 769\u001b[0;31m                                self.__class__.__name__, \"\\n\\t\".join(error_msgs)))\n\u001b[0m\u001b[1;32m    770\u001b[0m \u001b[0;34m\u001b[0m\u001b[0m\n\u001b[1;32m    771\u001b[0m     \u001b[0;32mdef\u001b[0m \u001b[0m_named_members\u001b[0m\u001b[0;34m(\u001b[0m\u001b[0mself\u001b[0m\u001b[0;34m,\u001b[0m \u001b[0mget_members_fn\u001b[0m\u001b[0;34m,\u001b[0m \u001b[0mprefix\u001b[0m\u001b[0;34m=\u001b[0m\u001b[0;34m''\u001b[0m\u001b[0;34m,\u001b[0m \u001b[0mrecurse\u001b[0m\u001b[0;34m=\u001b[0m\u001b[0;32mTrue\u001b[0m\u001b[0;34m)\u001b[0m\u001b[0;34m:\u001b[0m\u001b[0;34m\u001b[0m\u001b[0;34m\u001b[0m\u001b[0m\n",
      "\u001b[0;31mRuntimeError\u001b[0m: Error(s) in loading state_dict for Yolov2:\n\tMissing key(s) in state_dict: \"batchnorm1.weight\", \"batchnorm1.bias\", \"batchnorm1.running_mean\", \"batchnorm1.running_var\", \"batchnorm2.weight\", \"batchnorm2.bias\", \"batchnorm2.running_mean\", \"batchnorm2.running_var\", \"batchnorm3.weight\", \"batchnorm3.bias\", \"batchnorm3.running_mean\", \"batchnorm3.running_var\", \"batchnorm4.weight\", \"batchnorm4.bias\", \"batchnorm4.running_mean\", \"batchnorm4.running_var\", \"batchnorm5.weight\", \"batchnorm5.bias\", \"batchnorm5.running_mean\", \"batchnorm5.running_var\", \"batchnorm6.weight\", \"batchnorm6.bias\", \"batchnorm6.running_mean\", \"batchnorm6.running_var\", \"batchnorm7.weight\", \"batchnorm7.bias\", \"batchnorm7.running_mean\", \"batchnorm7.running_var\", \"batchnorm8.weight\", \"batchnorm8.bias\", \"batchnorm8.running_mean\", \"batchnorm8.running_var\", \"batchnorm9.weight\", \"batchnorm9.bias\", \"batchnorm9.running_mean\", \"batchnorm9.running_var\", \"batchnorm10.weight\", \"batchnorm10.bias\", \"batchnorm10.running_mean\", \"batchnorm10.running_var\", \"batchnorm11.weight\", \"batchnorm11.bias\", \"batchnorm11.running_mean\", \"batchnorm11.running_var\", \"batchnorm12.weight\", \"batchnorm12.bias\", \"batchnorm12.running_mean\", \"batchnorm12.running_var\", \"batchnorm13.weight\", \"batchnorm13.bias\", \"batchnorm13.running_mean\", \"batchnorm13.running_var\", \"batchnorm14.weight\", \"batchnorm14.bias\", \"batchnorm14.running_mean\", \"batchnorm14.running_var\", \"batchnorm15.weight\", \"batchnorm15.bias\", \"batchnorm15.running_mean\", \"batchnorm15.running_var\", \"batchnorm16.weight\", \"batchnorm16.bias\", \"batchnorm16.running_mean\", \"batchnorm16.running_var\", \"batchnorm17.weight\", \"batchnorm17.bias\", \"batchnorm17.running_mean\", \"batchnorm17.running_var\", \"batchnorm18.weight\", \"batchnorm18.bias\", \"batchnorm18.running_mean\", \"batchnorm18.running_var\", \"batchnorm19.weight\", \"batchnorm19.bias\", \"batchnorm19.running_mean\", \"batchnorm19.running_var\", \"batchnorm20.weight\", \"batchnorm20.bias\", \"batchnorm20.running_mean\", \"batchnorm20.running_var\", \"batchnorm21.weight\", \"batchnorm21.bias\", \"batchnorm21.running_mean\", \"batchnorm21.running_var\". \n\tUnexpected key(s) in state_dict: \"bn1.weight\", \"bn1.bias\", \"bn1.running_mean\", \"bn1.running_var\", \"bn1.num_batches_tracked\", \"bn2.weight\", \"bn2.bias\", \"bn2.running_mean\", \"bn2.running_var\", \"bn2.num_batches_tracked\", \"bn3.weight\", \"bn3.bias\", \"bn3.running_mean\", \"bn3.running_var\", \"bn3.num_batches_tracked\", \"bn4.weight\", \"bn4.bias\", \"bn4.running_mean\", \"bn4.running_var\", \"bn4.num_batches_tracked\", \"bn5.weight\", \"bn5.bias\", \"bn5.running_mean\", \"bn5.running_var\", \"bn5.num_batches_tracked\", \"bn6.weight\", \"bn6.bias\", \"bn6.running_mean\", \"bn6.running_var\", \"bn6.num_batches_tracked\", \"bn7.weight\", \"bn7.bias\", \"bn7.running_mean\", \"bn7.running_var\", \"bn7.num_batches_tracked\", \"bn8.weight\", \"bn8.bias\", \"bn8.running_mean\", \"bn8.running_var\", \"bn8.num_batches_tracked\", \"bn9.weight\", \"bn9.bias\", \"bn9.running_mean\", \"bn9.running_var\", \"bn9.num_batches_tracked\", \"bn10.weight\", \"bn10.bias\", \"bn10.running_mean\", \"bn10.running_var\", \"bn10.num_batches_tracked\", \"bn11.weight\", \"bn11.bias\", \"bn11.running_mean\", \"bn11.running_var\", \"bn11.num_batches_tracked\", \"bn12.weight\", \"bn12.bias\", \"bn12.running_mean\", \"bn12.running_var\", \"bn12.num_batches_tracked\", \"bn13.weight\", \"bn13.bias\", \"bn13.running_mean\", \"bn13.running_var\", \"bn13.num_batches_tracked\", \"bn14.weight\", \"bn14.bias\", \"bn14.running_mean\", \"bn14.running_var\", \"bn14.num_batches_tracked\", \"bn15.weight\", \"bn15.bias\", \"bn15.running_mean\", \"bn15.running_var\", \"bn15.num_batches_tracked\", \"bn16.weight\", \"bn16.bias\", \"bn16.running_mean\", \"bn16.running_var\", \"bn16.num_batches_tracked\", \"bn17.weight\", \"bn17.bias\", \"bn17.running_mean\", \"bn17.running_var\", \"bn17.num_batches_tracked\", \"bn18.weight\", \"bn18.bias\", \"bn18.running_mean\", \"bn18.running_var\", \"bn18.num_batches_tracked\", \"bn19.weight\", \"bn19.bias\", \"bn19.running_mean\", \"bn19.running_var\", \"bn19.num_batches_tracked\", \"bn20.weight\", \"bn20.bias\", \"bn20.running_mean\", \"bn20.running_var\", \"bn20.num_batches_tracked\", \"bn21.weight\", \"bn21.bias\", \"bn21.running_mean\", \"bn21.running_var\", \"bn21.num_batches_tracked\". "
     ]
    }
   ],
   "source": [
    "# !rm -r yolo_voc1\n",
    "\n",
    "lr = 0.00025\n",
    "net = net.to(device)\n",
    "adam = torch.optim.Adam(net.parameters(), lr=lr)\n",
    "stats_manager = YOLOStatsManager()\n",
    "exp1 = nt.Experiment(net, train_set, test_set, adam, stats_manager, meta, output_dir=\"yolo_voc1\", \n",
    "                     batch_size = batch_size, perform_validation_during_training=False)"
   ]
  },
  {
   "cell_type": "code",
   "execution_count": null,
   "metadata": {},
   "outputs": [],
   "source": [
    "def plot(exp, fig, axes):\n",
    "    axes.clear()\n",
    "    axes.plot([exp.history[k]['loss'] for k in range(len(exp.history))], label=\"training loss\")\n",
    "#     axes.plot([exp.history[k][1]['loss'] for k in range(exp.epoch)], label=\"evaluation loss\")\n",
    "    plt.xticks([18,36,54,72], ['epoch 1', 'epoch 2', 'epoch 3', 'epoch 4'], rotation=45)    \n",
    "    plt.tight_layout()\n",
    "    fig.canvas.draw()\n",
    "#     axes.set_ylim([0,50])\n",
    "    axes.legend()\n",
    "\n",
    "# torch.backends.cudnn.enabled=False\n",
    "# fig, axes = plt.subplots(ncols=1, figsize=(12, 5))\n",
    "# exp1.run(num_epochs=4, plot=lambda exp: plot(exp, fig=fig, axes=axes))"
   ]
  },
  {
   "cell_type": "code",
   "execution_count": 1,
   "metadata": {},
   "outputs": [],
   "source": [
    "# torch.backends.cudnn.enabled=False\n",
    "# exp1.evaluate()"
   ]
  },
  {
   "cell_type": "code",
   "execution_count": 12,
   "metadata": {},
   "outputs": [
    {
     "ename": "NameError",
     "evalue": "name 'exp1' is not defined",
     "output_type": "error",
     "traceback": [
      "\u001b[0;31m---------------------------------------------------------------------------\u001b[0m",
      "\u001b[0;31mNameError\u001b[0m                                 Traceback (most recent call last)",
      "\u001b[0;32m<ipython-input-12-f71405655792>\u001b[0m in \u001b[0;36m<module>\u001b[0;34m()\u001b[0m\n\u001b[1;32m      4\u001b[0m \u001b[0midx\u001b[0m \u001b[0;34m=\u001b[0m \u001b[0;36m0\u001b[0m\u001b[0;34m\u001b[0m\u001b[0;34m\u001b[0m\u001b[0m\n\u001b[1;32m      5\u001b[0m \u001b[0mx\u001b[0m \u001b[0;34m=\u001b[0m \u001b[0mtorch\u001b[0m\u001b[0;34m.\u001b[0m\u001b[0mfrom_numpy\u001b[0m\u001b[0;34m(\u001b[0m\u001b[0mtrain_set\u001b[0m\u001b[0;34m[\u001b[0m\u001b[0midx\u001b[0m\u001b[0;34m]\u001b[0m\u001b[0;34m[\u001b[0m\u001b[0;36m0\u001b[0m\u001b[0;34m]\u001b[0m\u001b[0;34m)\u001b[0m\u001b[0;34m.\u001b[0m\u001b[0mview\u001b[0m\u001b[0;34m(\u001b[0m\u001b[0;36m1\u001b[0m\u001b[0;34m,\u001b[0m\u001b[0;36m3\u001b[0m\u001b[0;34m,\u001b[0m\u001b[0;36m448\u001b[0m\u001b[0;34m,\u001b[0m\u001b[0;36m448\u001b[0m\u001b[0;34m)\u001b[0m\u001b[0;34m.\u001b[0m\u001b[0mfloat\u001b[0m\u001b[0;34m(\u001b[0m\u001b[0;34m)\u001b[0m\u001b[0;34m\u001b[0m\u001b[0;34m\u001b[0m\u001b[0m\n\u001b[0;32m----> 6\u001b[0;31m \u001b[0my\u001b[0m \u001b[0;34m=\u001b[0m \u001b[0mexp1\u001b[0m\u001b[0;34m.\u001b[0m\u001b[0mnet\u001b[0m\u001b[0;34m.\u001b[0m\u001b[0mforward\u001b[0m\u001b[0;34m(\u001b[0m\u001b[0mx\u001b[0m\u001b[0;34m.\u001b[0m\u001b[0mto\u001b[0m\u001b[0;34m(\u001b[0m\u001b[0mdevice\u001b[0m\u001b[0;34m)\u001b[0m\u001b[0;34m)\u001b[0m\u001b[0;34m\u001b[0m\u001b[0;34m\u001b[0m\u001b[0m\n\u001b[0m\u001b[1;32m      7\u001b[0m predictions = utils.post_processing(y, 448, CLASSES, net.anchors, conf_threshold,\n\u001b[1;32m      8\u001b[0m                     nms_threshold)\n",
      "\u001b[0;31mNameError\u001b[0m: name 'exp1' is not defined"
     ]
    }
   ],
   "source": [
    "#evaluate\n",
    "conf_threshold = 0.35     #default 0.35\n",
    "nms_threshold = 0.5     #default 0.5\n",
    "idx = 0\n",
    "x = torch.from_numpy(train_set[idx][0]).view(1,3,448,448).float()\n",
    "y = exp1.net.forward(x.to(device))\n",
    "predictions = utils.post_processing(y, 448, CLASSES, net.anchors, conf_threshold,\n",
    "                    nms_threshold)\n",
    " \n",
    "\n",
    "img_name = train_set.imgnames[idx]\n",
    "utils.draw_boxes(img_name, predictions)\n"
   ]
  },
  {
   "cell_type": "markdown",
   "metadata": {},
   "source": [
    "## Exp2: Fine-tuning: train all layers"
   ]
  },
  {
   "cell_type": "code",
   "execution_count": 10,
   "metadata": {},
   "outputs": [
    {
     "name": "stdout",
     "output_type": "stream",
     "text": [
      "<generator object Module.children at 0x7f5f498c4e08>\n",
      "conv1.weight torch.Size([32, 3, 3, 3]) True\n",
      "bn1.weight torch.Size([32]) True\n",
      "bn1.bias torch.Size([32]) True\n",
      "conv2.weight torch.Size([64, 32, 3, 3]) True\n",
      "bn2.weight torch.Size([64]) True\n",
      "bn2.bias torch.Size([64]) True\n",
      "conv3.weight torch.Size([128, 64, 3, 3]) True\n",
      "bn3.weight torch.Size([128]) True\n",
      "bn3.bias torch.Size([128]) True\n",
      "conv4.weight torch.Size([64, 128, 1, 1]) True\n",
      "bn4.weight torch.Size([64]) True\n",
      "bn4.bias torch.Size([64]) True\n",
      "conv5.weight torch.Size([128, 64, 3, 3]) True\n",
      "bn5.weight torch.Size([128]) True\n",
      "bn5.bias torch.Size([128]) True\n",
      "conv6.weight torch.Size([256, 128, 3, 3]) True\n",
      "bn6.weight torch.Size([256]) True\n",
      "bn6.bias torch.Size([256]) True\n",
      "conv7.weight torch.Size([128, 256, 1, 1]) True\n",
      "bn7.weight torch.Size([128]) True\n",
      "bn7.bias torch.Size([128]) True\n",
      "conv8.weight torch.Size([256, 128, 3, 3]) True\n",
      "bn8.weight torch.Size([256]) True\n",
      "bn8.bias torch.Size([256]) True\n",
      "conv9.weight torch.Size([512, 256, 3, 3]) True\n",
      "bn9.weight torch.Size([512]) True\n",
      "bn9.bias torch.Size([512]) True\n",
      "conv10.weight torch.Size([256, 512, 1, 1]) True\n",
      "bn10.weight torch.Size([256]) True\n",
      "bn10.bias torch.Size([256]) True\n",
      "conv11.weight torch.Size([512, 256, 3, 3]) True\n",
      "bn11.weight torch.Size([512]) True\n",
      "bn11.bias torch.Size([512]) True\n",
      "conv12.weight torch.Size([256, 512, 1, 1]) True\n",
      "bn12.weight torch.Size([256]) True\n",
      "bn12.bias torch.Size([256]) True\n",
      "conv13.weight torch.Size([512, 256, 3, 3]) True\n",
      "bn13.weight torch.Size([512]) True\n",
      "bn13.bias torch.Size([512]) True\n",
      "conv14.weight torch.Size([1024, 512, 3, 3]) True\n",
      "bn14.weight torch.Size([1024]) True\n",
      "bn14.bias torch.Size([1024]) True\n",
      "conv15.weight torch.Size([512, 1024, 1, 1]) True\n",
      "bn15.weight torch.Size([512]) True\n",
      "bn15.bias torch.Size([512]) True\n",
      "conv16.weight torch.Size([1024, 512, 3, 3]) True\n",
      "bn16.weight torch.Size([1024]) True\n",
      "bn16.bias torch.Size([1024]) True\n",
      "conv17.weight torch.Size([512, 1024, 1, 1]) True\n",
      "bn17.weight torch.Size([512]) True\n",
      "bn17.bias torch.Size([512]) True\n",
      "conv18.weight torch.Size([1024, 512, 3, 3]) True\n",
      "bn18.weight torch.Size([1024]) True\n",
      "bn18.bias torch.Size([1024]) True\n",
      "conv19.weight torch.Size([1024, 1024, 3, 3]) True\n",
      "bn19.weight torch.Size([1024]) True\n",
      "bn19.bias torch.Size([1024]) True\n",
      "conv20.weight torch.Size([1024, 1024, 3, 3]) True\n",
      "bn20.weight torch.Size([1024]) True\n",
      "bn20.bias torch.Size([1024]) True\n",
      "conv21.weight torch.Size([1024, 3072, 3, 3]) True\n",
      "bn21.weight torch.Size([1024]) True\n",
      "bn21.bias torch.Size([1024]) True\n",
      "conv22.weight torch.Size([125, 1024, 1, 1]) True\n",
      "conv22.bias torch.Size([125]) True\n"
     ]
    }
   ],
   "source": [
    "net = Yolov2()\n",
    "net = build.load_pretrained_weights(net)\n",
    "build.model_freeze_upto(net, 0)\n",
    "for name, param in net.named_parameters():\n",
    "    print(name, param.size(), param.requires_grad)"
   ]
  },
  {
   "cell_type": "code",
   "execution_count": 12,
   "metadata": {},
   "outputs": [],
   "source": [
    "#!rm -r yolo_voc2\n",
    "\n",
    "lr = 0.00025\n",
    "net = net.to(device)\n",
    "adam = torch.optim.Adam(net.parameters(), lr=lr)\n",
    "stats_manager = YOLOStatsManager()\n",
    "exp2 = nt.Experiment(net, train_set, test_set, adam, stats_manager, meta, output_dir=\"yolo_voc2\", \n",
    "                     batch_size = batch_size, perform_validation_during_training=False)"
   ]
  },
  {
   "cell_type": "code",
   "execution_count": 13,
   "metadata": {},
   "outputs": [
    {
     "name": "stdout",
     "output_type": "stream",
     "text": [
      "Start/Continue training from epoch 8\n",
      "Finish training for 4 epochs\n"
     ]
    },
    {
     "data": {
      "image/png": "[encoded data removed]",
      "text/plain": [
       "<Figure size 864x360 with 1 Axes>"
      ]
     },
     "metadata": {
      "needs_background": "light"
     },
     "output_type": "display_data"
    }
   ],
   "source": [
    "def plot(exp, fig, axes):\n",
    "    axes.clear()\n",
    "    axes.plot([exp.history[k]['loss'] for k in range(len(exp.history))], label=\"training loss\")\n",
    "#     axes.plot([exp.history[k][1]['loss'] for k in range(exp.epoch)], label=\"evaluation loss\")\n",
    "    plt.xticks([18,36,54,72], ['epoch 1', 'epoch 2', 'epoch 3', 'epoch 4'], rotation=45)    \n",
    "    plt.tight_layout()\n",
    "    fig.canvas.draw()\n",
    "    axes.set_ylim([0,50])\n",
    "    axes.legend()\n",
    "\n",
    "fig, axes = plt.subplots(ncols=1, figsize=(12, 5))\n",
    "exp2.run(num_epochs=4, plot=lambda exp: plot(exp, fig=fig, axes=axes))"
   ]
  },
  {
   "cell_type": "code",
   "execution_count": 37,
   "metadata": {},
   "outputs": [
    {
     "name": "stdout",
     "output_type": "stream",
     "text": [
      "[[0.         0.         0.         0.        ]\n",
      " [0.03620392 0.03008816 0.75542206 0.51634991]]\n"
     ]
    },
    {
     "data": {
      "image/png": "[encoded data removed]",
      "text/plain": [
       "<Figure size 432x288 with 1 Axes>"
      ]
     },
     "metadata": {
      "needs_background": "light"
     },
     "output_type": "display_data"
    }
   ],
   "source": [
    "#evaluate\n",
    "# test_loader = td.DataLoader(test_set,\n",
    "#                                      batch_size=batch_size,\n",
    "#                                      shuffle=True,\n",
    "#                                      drop_last=True,\n",
    "#                                      pin_memory=True)\n",
    "# for i, test_data in enumerate(test_loader):\n",
    "#     test_images = Variable(test_data[\"image\"], requires_grad=True).cuda().float()\n",
    "#     test_labels = Variable(test_data[\"bboxes\"], requires_grad=False).cuda().float()\n",
    "#     test_n_true = test_data[\"n_true\"]\n",
    "#     break\n",
    "\n",
    "test = test_set[2]['image'].float().to(device).view(1,3,416,416)\n",
    "\n",
    "net = net.cuda()\n",
    "a=net.forward(test)\n",
    "nnms = bbox.get_nms_detections(a, 0, 0.1)\n",
    "# nnms\n",
    "bbox.draw_bbox_torch({\"image\": test_images[0].cpu().data, \"bboxes\": test_labels[0].cpu().data})\n",
    "bbox.draw_bbox_nms(test_images[0].cpu(), nnms[0].cpu())\n"
   ]
  },
  {
   "cell_type": "markdown",
   "metadata": {},
   "source": [
    "## Exp3: Cosine annealing learning rate"
   ]
  },
  {
   "cell_type": "code",
   "execution_count": null,
   "metadata": {},
   "outputs": [],
   "source": [
    "class CosineAnnealing(_LRScheduler):\n",
    "\n",
    "    def __init__(self, optimizer, T_max, eta_min=0, last_epoch=-1):\n",
    "        self.T_max = T_max\n",
    "        self.eta_min = eta_min\n",
    "        super(CosineAnnealing, self).__init__(optimizer, last_epoch)\n",
    "\n",
    "    def get_lr(self):\n",
    "        return [self.eta_min + (base_lr - self.eta_min) *\n",
    "                (1 + math.cos(math.pi * self.last_epoch / self.T_max)) / 2\n",
    "                for base_lr in self.base_lrs]"
   ]
  },
  {
   "cell_type": "code",
   "execution_count": null,
   "metadata": {},
   "outputs": [],
   "source": [
    "net = Yolov2()\n",
    "net = build.load_pretrained_weights(net)\n",
    "build.model_freeze_upto(net, 36)\n",
    "for name, param in net.named_parameters():\n",
    "    print(name, param.size(), param.requires_grad)"
   ]
  },
  {
   "cell_type": "code",
   "execution_count": null,
   "metadata": {},
   "outputs": [],
   "source": [
    "#!rm -r yolo_voc3\n",
    "\n",
    "lr = 0.00025\n",
    "net = net.to(device)\n",
    "adam = torch.optim.Adam(net.parameters(), lr=lr)\n",
    "ca = CosineAnnealing(adam, 300)\n",
    "stats_manager = YOLOStatsManager()\n",
    "exp3 = nt.Experiment(net, train_set, test_set, ca, stats_manager, meta, output_dir=\"yolo_voc3\", \n",
    "                     batch_size = batch_size, perform_validation_during_training=False)"
   ]
  },
  {
   "cell_type": "code",
   "execution_count": null,
   "metadata": {},
   "outputs": [],
   "source": []
  }
 ],
 "metadata": {
  "kernelspec": {
   "display_name": "Python 3",
   "language": "python",
   "name": "python3"
  },
  "language_info": {
   "codemirror_mode": {
    "name": "ipython",
    "version": 3
   },
   "file_extension": ".py",
   "mimetype": "text/x-python",
   "name": "python",
   "nbconvert_exporter": "python",
   "pygments_lexer": "ipython3",
   "version": "3.6.8"
  }
 },
 "nbformat": 4,
 "nbformat_minor": 2
}
